{
 "cells": [
  {
   "cell_type": "markdown",
   "id": "e941148a-dfb3-4d5c-baf2-0cb3b4add796",
   "metadata": {},
   "source": [
    "### Risk Management and Portfolio optimization"
   ]
  },
  {
   "cell_type": "markdown",
   "id": "ec8c9df9-7cf7-49d6-958d-7266a5d55c79",
   "metadata": {},
   "source": [
    "##### Algunos conceptos que vamos a ver en esta notebook son:\n",
    "\n",
    "* Análisis de retornos y de volumen. Algunas conclusiones.\n",
    "* Distribución de los retornos. Percentiles y quantiles. ¿Qué cosas ver?\n",
    "* Varianza, desvío estandar (volatilidad) - Indicadores financieros (oscilador de volatilida y radio de volatilidad)\n",
    "* Correlación, covarianza.\n",
    "* Introducción a la optimización de portafolios\n",
    "* Cálculo de medidas de riesgo"
   ]
  },
  {
   "cell_type": "code",
   "execution_count": null,
   "id": "80055c37-151a-4639-887c-976575ed2614",
   "metadata": {},
   "outputs": [],
   "source": []
  },
  {
   "cell_type": "code",
   "execution_count": null,
   "id": "51882815-05f8-4c69-ad56-0146299114d4",
   "metadata": {},
   "outputs": [],
   "source": []
  }
 ],
 "metadata": {
  "kernelspec": {
   "display_name": "Python 3 (ipykernel)",
   "language": "python",
   "name": "python3"
  },
  "language_info": {
   "codemirror_mode": {
    "name": "ipython",
    "version": 3
   },
   "file_extension": ".py",
   "mimetype": "text/x-python",
   "name": "python",
   "nbconvert_exporter": "python",
   "pygments_lexer": "ipython3",
   "version": "3.11.6"
  }
 },
 "nbformat": 4,
 "nbformat_minor": 5
}
