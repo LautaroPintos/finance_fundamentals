{
 "cells": [
  {
   "cell_type": "markdown",
   "id": "cc75ddc3-271d-42ee-bac6-4e1b34b54872",
   "metadata": {},
   "source": [
    "### Introducción a la probabilidad y variables aleatorias"
   ]
  },
  {
   "cell_type": "markdown",
   "id": "34567911-004a-43e8-9bc6-01891b864e06",
   "metadata": {},
   "source": [
    "##### Algunos conceptos que vamos a ver en esta notebook son:\n",
    "\n",
    "* Introducción a las variables aleatorias\n",
    "* Simulación de variables aleatorias\n",
    "* Introducción a la teoría de distribuciones estadísticas"
   ]
  },
  {
   "cell_type": "code",
   "execution_count": 6,
   "id": "6921c2f6-0373-468b-8080-15eb668b8960",
   "metadata": {},
   "outputs": [],
   "source": [
    "# Importamos las librerías que vamos a estar usando para el análisis\n",
    "import numpy as np\n",
    "import pandas as pd\n",
    "import matplotlib.pyplot as plt\n",
    "import scipy.stats as st"
   ]
  },
  {
   "cell_type": "code",
   "execution_count": 40,
   "id": "50577fa4-47fc-4502-9d75-65a3c0b8c941",
   "metadata": {},
   "outputs": [],
   "source": [
    "# Parámetros\n",
    "gl = 8\n",
    "size = 10**6\n",
    "mu = 0\n",
    "sigma = 1"
   ]
  },
  {
   "cell_type": "code",
   "execution_count": 41,
   "id": "aa582684-84b3-4131-8fde-763873527c86",
   "metadata": {},
   "outputs": [],
   "source": [
    "# Ahora sí creamos un vector de variables aletorias distribuidas de acuerdo a lo siguiente\n",
    "s = np.random.uniform(low = 0, high = 1, size = size)\n",
    "s1 = np.random.normal(loc = mu, scale = sigma, size = size)\n",
    "s2 = np.random.standard_t(df = gl, size = size)"
   ]
  },
  {
   "cell_type": "markdown",
   "id": "7b3ad145-1919-4c6a-8460-0b6c199a1086",
   "metadata": {},
   "source": [
    "##### ¿Qué son los grádos de libertad de una distribución?\n",
    "\n",
    "Los grados de libertad son la cantidad de observaciones independientes que pueden variar sin violar las restricciones \n",
    "asociadas a la muestra. La explicación intuitiva que aplica para las fórmulas de las distribuciones y de la varianza es que\n",
    "si queremos estimar una media poblacional (o la varianza muestral) solo tenemos una única restricción. ¿Cuál es? basicamente\n",
    "si tenemos una muestra con de 5 valores, solo puedo variar 4 porque el quinto valor tiene que ser tal que la media poblacional\n",
    "de el verdadero valor. Por el contrario, la media muestral no tiene grados de libertad dado que no presenta restricciones.\n",
    "\n",
    "Mientras más grados de libertad dispongamos más nos acercaremos al valor poblacional real y al verdadero comportamiento de \n",
    "la variable aleatoria en análisis."
   ]
  },
  {
   "cell_type": "code",
   "execution_count": 42,
   "id": "62356bc7-cf63-4263-915f-6be9e25b780f",
   "metadata": {},
   "outputs": [
    {
     "data": {
      "image/png": "[encoded data removed]",
      "text/plain": [
       "<Figure size 640x480 with 1 Axes>"
      ]
     },
     "metadata": {},
     "output_type": "display_data"
    }
   ],
   "source": [
    "# Realizmaos un histograma de estas distribuciones\n",
    "plt.figure()\n",
    "plt.hist(s2, bins=100)\n",
    "plt.title(\"Histograma de la variable aleatoria\")\n",
    "plt.show()"
   ]
  },
  {
   "cell_type": "markdown",
   "id": "9fad8585-fa97-4619-a1b4-87ffa295f3d8",
   "metadata": {},
   "source": [
    "##### ¿Qué son la curtosis y la asimetría de una distribución? \n",
    "\n",
    "La curtosis es una medida estadística que nos habla de la forma de una distribución. Nos habla de cuan alejados de la medida tenemos los datos.\n",
    "Esto no quiere decir que tenemos mayor varianza sino, más bien, nos habla de cuan largas son las colas de la distribución.\n",
    "\n",
    "Tenemos dos tipos de curtosis en general: Una curtosis convencional y una curtosis en exceso. Como la curtosis de una distribución normal estandar\n",
    "es igual a 3, lo que suele hacerse es ajustar el momento cuatro restandole un 3 para que la curtosis de una normal sea igual a 0.\n",
    "\n",
    "Por otro lado, la curtosis nos dice cuantos valores tenemos por derecha y por izquierda respuesto a la media de una distribución. Es por eso que se utiliza el momento 3 con el objetivo de seguir mantendiendo el signo.\n",
    "\n",
    "Ambos conceptos son útiles a la hora de analizar si una distribución es semejante a una normal o no. Que se cumpla esta propiedad nos puede ayudar a simplificar muchos inconvenientes que podemos tener en el modelado"
   ]
  },
  {
   "cell_type": "code",
   "execution_count": 35,
   "id": "eaf53ec3-d94e-4704-beba-36abc47efe1e",
   "metadata": {},
   "outputs": [
    {
     "name": "stdout",
     "output_type": "stream",
     "text": [
      "Curtosis de Fisher (en exceso):-0.006126218001078154\n",
      "Curtosis de Person:2.993873781998922\n",
      "Medida de asimetría:0.0011328503476590692\n",
      "Media:0.0006948430572337754\n",
      "Desvío estandar (volatilidad):1.0009860228981347\n"
     ]
    }
   ],
   "source": [
    "# Calculamos los momentos de orden 3 (asimetría o sesgo) y el momento de orden 4 (kurtosis).\n",
    "print('Curtosis de Fisher (en exceso):' + str(st.kurtosis(s1)))\n",
    "print('Curtosis de Person:' + str(st.kurtosis(s1, fisher=False)))\n",
    "print('Medida de asimetría:' + str(st.skew(s1)))\n",
    "print('Media:' + str(np.mean(s1)))\n",
    "print('Desvío estandar (volatilidad):' + str(np.std(s1)))"
   ]
  },
  {
   "cell_type": "markdown",
   "id": "a37c7e57-36aa-46f3-afc1-3dcac4b464a9",
   "metadata": {},
   "source": [
    "##### ¿Qué son las colas largas y las colas pesadas de una distribución? \n",
    "\n",
    "Los conceptos de colas largas y colas pesadas generalmente se usan indistintamente ya que ambos significan una mayor frecuencia en la ocurrencia de valores extrémos. No obstante, el concepto de colas pesadas también generalmente esta asociado a una mayor varianza producto que la velocidad con la que caen las colas es mucho menor."
   ]
  },
  {
   "cell_type": "code",
   "execution_count": 43,
   "id": "409bbfd5-64b3-455f-8748-4698fd31f374",
   "metadata": {},
   "outputs": [
    {
     "name": "stdout",
     "output_type": "stream",
     "text": [
      "Curtosis de Fisher (en exceso):1.5105537235726718\n",
      "Curtosis de Person:4.510553723572672\n",
      "Medida de asimetría:0.004004833296256674\n",
      "Media:-0.000384946826938771\n",
      "Desvío estandar (volatilidad):1.1584791599155424\n"
     ]
    }
   ],
   "source": [
    "# Calculamos los momentos de orden 3 (asimetría o sesgo) y el momento de orden 4 (kurtosis).\n",
    "print('Curtosis de Fisher (en exceso):' + str(st.kurtosis(s2)))\n",
    "print('Curtosis de Person:' + str(st.kurtosis(s2, fisher=False)))\n",
    "print('Medida de asimetría:' + str(st.skew(s2)))\n",
    "print('Media:' + str(np.mean(s2)))\n",
    "print('Desvío estandar (volatilidad):' + str(np.std(s2)))"
   ]
  },
  {
   "cell_type": "code",
   "execution_count": null,
   "id": "f9a48495-1fa9-4fd0-9638-c1f795020cb4",
   "metadata": {},
   "outputs": [],
   "source": []
  }
 ],
 "metadata": {
  "kernelspec": {
   "display_name": "Python 3 (ipykernel)",
   "language": "python",
   "name": "python3"
  },
  "language_info": {
   "codemirror_mode": {
    "name": "ipython",
    "version": 3
   },
   "file_extension": ".py",
   "mimetype": "text/x-python",
   "name": "python",
   "nbconvert_exporter": "python",
   "pygments_lexer": "ipython3",
   "version": "3.11.6"
  }
 },
 "nbformat": 4,
 "nbformat_minor": 5
}
