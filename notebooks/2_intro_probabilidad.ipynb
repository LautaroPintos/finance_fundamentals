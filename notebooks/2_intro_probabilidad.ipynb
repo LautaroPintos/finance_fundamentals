{
 "cells": [
  {
   "cell_type": "markdown",
   "id": "cc75ddc3-271d-42ee-bac6-4e1b34b54872",
   "metadata": {},
   "source": [
    "### Introducción a la probabilidad y variables aleatorias"
   ]
  },
  {
   "cell_type": "markdown",
   "id": "34567911-004a-43e8-9bc6-01891b864e06",
   "metadata": {},
   "source": [
    "##### Algunos conceptos que vamos a ver en esta notebook son:\n",
    "\n",
    "* Introducción a las variables aleatorias\n",
    "* Simulación de variables aleatorias\n",
    "* Introducción a la teoría de distribuciones estadísticas. Principales medidas.\n",
    "* Aplicación de test estadísticos. Normalidad.\n",
    "\n",
    "Las funciones de distribución y de densidad surgieron de la necesidad de generalizar los sucesos que ocurrian en la naturaleza con diversas variables aleatorias. La generalización de estos eventos permite entender mejor la incertumbre que acarrean y generar estimaciones más precisas. Sus origenes se remotan a siglos antes de cristo con Tales de Mileto (probabilidad) y luego (múcho más luego) matemáticos como Bernoulli, Laplace, Gauss, Poison, de moivre, contribuyeron a la generalización de estas funciones."
   ]
  },
  {
   "cell_type": "code",
   "execution_count": 1,
   "id": "6921c2f6-0373-468b-8080-15eb668b8960",
   "metadata": {},
   "outputs": [],
   "source": [
    "# Importamos las librerías que vamos a estar usando para el análisis\n",
    "import numpy as np\n",
    "import pandas as pd\n",
    "import matplotlib.pyplot as plt\n",
    "import scipy.stats as st\n",
    "import statsmodels.api as sm\n",
    "from scipy.special import comb"
   ]
  },
  {
   "cell_type": "markdown",
   "id": "13e78ca8-202a-4e02-883e-11ed9ab86d1e",
   "metadata": {},
   "source": [
    "##### ¿Que son los histogramas y que son las distribuciones de probabilidad?\n",
    "\n",
    "En estadística, un histograma es una representación gráfica de una variable en forma de barras, donde la superficie de cada barra es proporcional a la frecuencia de los valores representados. Sirven para obtener una \"primera vista\" general, o panorama, de la distribución de la población, o de la muestra, respecto a una característica, cuantitativa y continua (como la longitud o el peso)\n",
    "\n",
    "De forma casera: Cuando tenemos un muestreo, muchos de estas mediciones (o datos) pueden obtener los mismos valores. Por esto, separamos nuestro muestreo en distintos \"bins\" y la altura de estos \"bins\" representa la cantidad de mediciones dentro de ese bin. Nos va a servir para saber, de formar intuitiva, por donde se encuentra la mayor cantidad de datos de nuestro muestreo e inferir probabilidades\n",
    "\n",
    "DEFINICIÓN: Una **variable aleatoria** es una función que mapea el espacio muestral (S, conjunto de eventos posibles) con un número real. Se suele expresar con una letra (generalmente X mayúscula) al evento dentro del espacio muestral (pensar en las caras de un dado o en un experimento dicotómico). Es por esto que siempre que vemos probabilidades la vemos como:\n",
    "\n",
    "$$\n",
    "{\\displaystyle {P} (X= x)}\n",
    "$$\n",
    "\n",
    "El mapeo del espacio muestral al conjunto de los reales (R) es determinístico (no es aleatorio, es cierto). La aleatoriedad viene dada con el resultado que obtenemos al observar la probabilidad de dicho evento.\n",
    "\n",
    "Las distribuciones de probabilidad no son más que las curvas que ajusta estos histogramas. Existen distintas familias de funciones de distribución para variables aleatorias discretas y para variables aleatorias continuas aunque dependiendo de que tipo de variable aleatoria estemos hablando podemos encontrar distintos nombres. Para una variable aleatoria discreta tenemos la **función (de masa) de probabilidad** y para variables aleatorias continuas tenemos la **función de densidad**. La suma (o integral) de dichas funciones nos da la **función de distribución** (FDA). \n",
    "\n",
    "$$\n",
    "{\\displaystyle F(x)=\\operatorname {P} [X\\leq x]=\\sum _{u\\leq x}f(u)}\n",
    "$$\n",
    "\n",
    "$$\n",
    "{\\displaystyle F(x)=\\operatorname {P} [X\\leq x]=\\int _{-\\infty }^{x}f(u)du}\n",
    "$$\n",
    "\n",
    "Para una variable aleatoria, la FDA en un punto dado es la probabilidad de que la variable aleatoria sea menor o igual a ese punto. Por el contrario, una función de densidad de probabilidad describe la probabilidad **relativa** según la cual dicha variable aleatoria tomará determinado valor ¿Por qué relativa? Debido a la continuidad de la distribución. Como estamos hablando de una porción infinitesimal dentro de un dominio de X esa probabilidad sería muy cercana a cero. Es por esto que siempre la evaluamos en un intervalo.\n",
    "\n",
    "Lo importante para tener una idea intuitiva (dado que estamos acostumbrados a ver histogramas) es entender cuando una variable es discreta o continua. Las funciones de masa de probabilidad si nos otorgan una probabilidad exacta pero las funciones de densidad nos otorgan una probabilidad relativa\n",
    "\n",
    "**Intuición**: Pensemos en como vamos de una función de distribución acumulada a una función de densidad. Supongamos que tenemos para una función de distribución los sigueintes valores de (x, f(x)): (164, 0.46) (165, 0.5) (166, 0.54). El gradiente de esto es la diferencia entre f(x) sobre delta_x. Que sería (0.54-0.46)/(166-164) = 0.04. Este resultado es el valor del eje y de la función de densidad.\n",
    "\n",
    "$$\n",
    "{\\displaystyle f_{X}(x)={\\frac {d}{dx}}F_{X}(x)}\n",
    "$$\n",
    "\n",
    "* https://es.wikipedia.org/wiki/Histograma\n",
    "* https://es.wikipedia.org/wiki/Funci%C3%B3n_de_distribuci%C3%B3n"
   ]
  },
  {
   "cell_type": "markdown",
   "id": "cef60ce1-c0e3-4748-a266-7ffcf112e319",
   "metadata": {},
   "source": [
    "##### Distribuciones discretas"
   ]
  },
  {
   "cell_type": "code",
   "execution_count": 2,
   "id": "722fcd4f-ac94-4e6a-9f1e-8058225f40b9",
   "metadata": {},
   "outputs": [
    {
     "name": "stdout",
     "output_type": "stream",
     "text": [
      "[1 0 0 0 1 1 0 1 0 0]\n"
     ]
    }
   ],
   "source": [
    "# Esta simulación de la distribució binomial nos dice el núumero de éxitos\n",
    "# n es la cantidad de vecedes que tiramos el dado en cada muestra\n",
    "# p es la verdadera probabilidad\n",
    "# ¿Qué sucede si queremos contar la cantidad de veces que vemos un 1 en una tirada de un dado?\n",
    "binom = np.random.binomial(n = 1, p = 1/6, size = 10)\n",
    "print(binom)"
   ]
  },
  {
   "cell_type": "code",
   "execution_count": 3,
   "id": "0b2e9eb5-374c-492d-a09e-5a33db07c630",
   "metadata": {},
   "outputs": [
    {
     "name": "stdout",
     "output_type": "stream",
     "text": [
      "[0 1 0 ... 0 0 0]\n"
     ]
    }
   ],
   "source": [
    "# Esta simulación de la distribució binomial nos dice el núumero de éxitos\n",
    "binom = np.random.binomial(n = 1, p = 1/6, size = 1000000)\n",
    "print(binom)"
   ]
  },
  {
   "cell_type": "code",
   "execution_count": 4,
   "id": "259acaca-eafe-4107-83de-690209fc52fa",
   "metadata": {},
   "outputs": [
    {
     "data": {
      "text/plain": [
       "0.166336"
      ]
     },
     "execution_count": 4,
     "metadata": {},
     "output_type": "execute_result"
    }
   ],
   "source": [
    "# En este caso estamos contando la cantidad de éxitos que tuvimos para el millón de tiradas.\n",
    "# dado que realizamos 1 millón de simulaciones para este dato, estamos obteniendo el valor de la verdadera probabilidad\n",
    "sum(binom == 1)/1000000"
   ]
  },
  {
   "cell_type": "code",
   "execution_count": 5,
   "id": "e273d356-9cb6-4e19-bea6-d3d1e6695232",
   "metadata": {},
   "outputs": [
    {
     "name": "stdout",
     "output_type": "stream",
     "text": [
      "0.2611013703988193\n"
     ]
    }
   ],
   "source": [
    "# Pero si queremos ver la probabilidad de ver la data dada una probabilidad de éxito dada.\n",
    "# Supongamos que tenemos un experimiento dicotómico en una muestra de 50 evaluaciones y tenemos 48 éxitos\n",
    "n = 50  # Número total de elementos\n",
    "k = 48  # Número de elementos a elegir\n",
    "p = 0.95\n",
    "\n",
    "coef_binomial = comb(n, k)\n",
    "likehood = (coef_binomial) * (p**k) * ((1-p)**(n-k))\n",
    "print(likehood)"
   ]
  },
  {
   "cell_type": "code",
   "execution_count": 6,
   "id": "bd294080-f917-40c6-8e46-9abb3bed519e",
   "metadata": {},
   "outputs": [
    {
     "name": "stdout",
     "output_type": "stream",
     "text": [
      "0.001092736514728003\n"
     ]
    }
   ],
   "source": [
    "# Pero si queremos ver la probabilidad de ver la data dada una probabilidad de éxito dada.\n",
    "n = 50  # Número total de elementos\n",
    "k = 48  # Número de elementos a elegir\n",
    "p = 0.8\n",
    "\n",
    "coef_binomial = comb(n, k)\n",
    "likehood = (coef_binomial) * (p**k) * ((1-p)**(n-k))\n",
    "print(likehood)"
   ]
  },
  {
   "cell_type": "code",
   "execution_count": 7,
   "id": "76cdea06-51ed-4d15-bc97-aebababfcc81",
   "metadata": {},
   "outputs": [
    {
     "name": "stdout",
     "output_type": "stream",
     "text": [
      "0.011283063728140162\n"
     ]
    }
   ],
   "source": [
    "# Pero si queremos ver la probabilidad de ver la data dada una probabilidad de éxito dada.\n",
    "n = 50  # Número total de elementos\n",
    "k = 48  # Número de elementos a elegir\n",
    "p = 0.85\n",
    "\n",
    "coef_binomial = comb(n, k)\n",
    "likehood = (coef_binomial) * (p**k) * ((1-p)**(n-k))\n",
    "print(likehood)"
   ]
  },
  {
   "cell_type": "code",
   "execution_count": 8,
   "id": "45a857c2-a382-4b51-8fee-7b2f7122dcfa",
   "metadata": {},
   "outputs": [
    {
     "name": "stdout",
     "output_type": "stream",
     "text": [
      "0.07794289665391535\n"
     ]
    }
   ],
   "source": [
    "# Pero si queremos ver la probabilidad de ver la data dada una probabilidad de éxito dada.\n",
    "n = 50  # Número total de elementos\n",
    "k = 48  # Número de elementos a elegir\n",
    "p = 0.9\n",
    "\n",
    "coef_binomial = comb(n, k)\n",
    "likehood = (coef_binomial) * (p**k) * ((1-p)**(n-k))\n",
    "print(likehood)"
   ]
  },
  {
   "cell_type": "code",
   "execution_count": 9,
   "id": "280a92ed-bec2-4824-bb47-37a471181d9c",
   "metadata": {},
   "outputs": [
    {
     "name": "stdout",
     "output_type": "stream",
     "text": [
      "0.1858008571873048\n"
     ]
    }
   ],
   "source": [
    "# Pero si queremos ver la probabilidad de ver la data dada una probabilidad de éxito dada.\n",
    "n = 50  # Número total de elementos\n",
    "k = 48  # Número de elementos a elegir\n",
    "p = 0.98\n",
    "\n",
    "coef_binomial = comb(n, k)\n",
    "likehood = (coef_binomial) * (p**k) * ((1-p)**(n-k))\n",
    "print(likehood)"
   ]
  },
  {
   "cell_type": "markdown",
   "id": "60cd88dd-a4ae-48f0-8353-126c64a72842",
   "metadata": {},
   "source": [
    "Algo sumamente importante de esto es que estamos asumiendo que la variable aleatoria es independiente.\n",
    "\n",
    "En este último caso, intuitvamente lo que estamos haciendo es simular una cierta cantidad de veces la probabilidad de encontrar 48 éxitos en una muestra de 50 casos dada una cierta probabilidad de éxito. Es por esto que en realidad tenemos una probabilidad de probabilidades. Pero en realidad lo que nosotros siempre buscamos es lo opuesto ¿Cual es la probabilidad de dada la data conocer la verdadera probabilidad? Esto lo vamos a ver cuando veamos bayes!"
   ]
  },
  {
   "cell_type": "markdown",
   "id": "05d4d996-52d8-4f1d-9885-25bd57567458",
   "metadata": {},
   "source": [
    "##### Distribuciones continuas"
   ]
  },
  {
   "cell_type": "code",
   "execution_count": 10,
   "id": "50577fa4-47fc-4502-9d75-65a3c0b8c941",
   "metadata": {},
   "outputs": [],
   "source": [
    "# Parámetros\n",
    "gl = 8\n",
    "size = 10**6\n",
    "mu = 0\n",
    "sigma = 1"
   ]
  },
  {
   "cell_type": "code",
   "execution_count": 11,
   "id": "aa582684-84b3-4131-8fde-763873527c86",
   "metadata": {},
   "outputs": [],
   "source": [
    "# Ahora sí creamos un vector de variables aletorias distribuidas de acuerdo a lo siguiente\n",
    "s = np.random.uniform(low = 0, high = 1, size = size)\n",
    "s1 = np.random.normal(loc = mu, scale = sigma, size = size)\n",
    "s2 = np.random.standard_t(df = gl, size = size)"
   ]
  },
  {
   "cell_type": "markdown",
   "id": "7b3ad145-1919-4c6a-8460-0b6c199a1086",
   "metadata": {},
   "source": [
    "##### ¿Qué son los grádos de libertad de una distribución?\n",
    "\n",
    "Los grados de libertad son la cantidad de observaciones independientes que pueden variar sin violar las restricciones \n",
    "asociadas a la muestra. La explicación intuitiva que aplica para las fórmulas de las distribuciones y de la varianza es que\n",
    "si queremos estimar una media poblacional (o la varianza muestral) solo tenemos una única restricción. ¿Cuál es? basicamente\n",
    "si tenemos una muestra con de 5 valores, solo puedo variar 4 porque el quinto valor tiene que ser tal que la media poblacional\n",
    "de el verdadero valor. Por el contrario, la media muestral no tiene grados de libertad dado que no presenta restricciones.\n",
    "\n",
    "Mientras más grados de libertad dispongamos más nos acercaremos al valor poblacional real y al verdadero comportamiento de \n",
    "la variable aleatoria en análisis.\n",
    "\n",
    "$$\n",
    "s={\\sqrt {{\\frac {1}{N-1}}\\sum _{i=1}^{N}(x_{i}-{\\overline {x}})^{2}}}\n",
    "$$\n",
    "\n",
    "\n",
    "Acá podemos ver la diferencia entre las distintas formas que tenemos de calcular el desvío estandar:\n",
    "\n",
    "* https://pandas.pydata.org/pandas-docs/stable/reference/api/pandas.DataFrame.std.html\n",
    "* https://numpy.org/doc/stable/reference/generated/numpy.std.html\n",
    "\n",
    "Algunos puntos interesantes de la varianza y del desvío estandar son que:\n",
    "\n",
    "* La varianza sigue una distribución de chi-cuadrado (no puede ser negativa)\n",
    "* El desvío estandar hace referencia a una muestra de datos empírica y el error estandar habla de errores en una estimación."
   ]
  },
  {
   "cell_type": "code",
   "execution_count": 12,
   "id": "62356bc7-cf63-4263-915f-6be9e25b780f",
   "metadata": {},
   "outputs": [
    {
     "data": {
      "image/png": "[encoded data removed]",
      "text/plain": [
       "<Figure size 640x480 with 1 Axes>"
      ]
     },
     "metadata": {},
     "output_type": "display_data"
    }
   ],
   "source": [
    "# Realizmaos un histograma de estas distribuciones\n",
    "b = 100\n",
    "\n",
    "plt.figure()\n",
    "plt.hist(s1, bins=b)\n",
    "plt.title(\"Histograma de la variable aleatoria\")\n",
    "plt.show()"
   ]
  },
  {
   "cell_type": "code",
   "execution_count": 13,
   "id": "01ee47df-a63c-4baa-a5bc-e9665bf10431",
   "metadata": {},
   "outputs": [
    {
     "data": {
      "image/png": "[encoded data removed]",
      "text/plain": [
       "<Figure size 640x480 with 1 Axes>"
      ]
     },
     "metadata": {},
     "output_type": "display_data"
    }
   ],
   "source": [
    "# Calculamos de una forma intuitiva la función de distribución acumulada (CDF)\n",
    "sorted_data = np.sort(s1)\n",
    "cdf = np.linspace(0, 1, len(sorted_data))\n",
    "\n",
    "# Grafica la CDF\n",
    "plt.plot(sorted_data, cdf)\n",
    "plt.xlabel('Valores')\n",
    "plt.ylabel('Probabilidad acumulada')\n",
    "plt.title('Función de Distribución Acumulada (CDF)')\n",
    "plt.grid(True)\n",
    "plt.show()"
   ]
  },
  {
   "cell_type": "code",
   "execution_count": 14,
   "id": "80974e24-7acb-4462-a263-74131e14686c",
   "metadata": {},
   "outputs": [
    {
     "name": "stdout",
     "output_type": "stream",
     "text": [
      "-2.5066282745665593e-06\n",
      "2.5066282747057052e-06\n",
      "0.39894228040101487\n",
      "0.3989422804014327\n",
      "Vemos que el dato es similar al valor que vemos en el histograma teniendo en cuenta un tema de escalas\n"
     ]
    }
   ],
   "source": [
    "# Obtener el valor correspondiente a la probabilidad acumulada p\n",
    "valor = st.norm.ppf(0.499999)\n",
    "print(valor)\n",
    "\n",
    "valor_2 = st.norm.ppf(0.500001)\n",
    "print(valor_2)\n",
    "\n",
    "# diferencio esto de forma discreta\n",
    "print(((0.500001-0.499999)/(valor_2-valor)))\n",
    "\n",
    "print(st.norm.pdf(0))\n",
    "\n",
    "print(\"Vemos que el dato es similar al valor que vemos en el histograma teniendo en cuenta un tema de escalas\")"
   ]
  },
  {
   "cell_type": "markdown",
   "id": "d90c4aba-66e8-442c-bfbc-09d8c6353816",
   "metadata": {},
   "source": [
    "##### Calculamos los quantiles de la distribución:\n",
    "\n",
    "Los quantiles son valores de una distribución que dividen una muestra en proporciones específicas. Para esto, los datos tienen que estar ordenados de menor a mayor. Por ejemplo, el valor del quantil de 50% de una muestra es la mediana y separa a la muestra en partes iguales.\n",
    "\n",
    "En general, solemos hablar de percentiles. Los percentiles no son más que quantiles pero que dividen la data en 100 grupos de partes iguales."
   ]
  },
  {
   "cell_type": "code",
   "execution_count": 15,
   "id": "ebaff6c1-4e8d-446d-ae93-d3f57c1f5de6",
   "metadata": {},
   "outputs": [
    {
     "name": "stdout",
     "output_type": "stream",
     "text": [
      "[  0.   5.  10.  15.  20.  25.  30.  35.  40.  45.  50.  55.  60.  65.\n",
      "  70.  75.  80.  85.  90.  95. 100.]\n"
     ]
    }
   ],
   "source": [
    "# Lo primero que hacemos es generar un vector con los quantiles deseados:\n",
    "percentiles = np.arange(0.0, 1.05, 0.05) * 100\n",
    "print(percentiles)"
   ]
  },
  {
   "cell_type": "code",
   "execution_count": 16,
   "id": "b7ae8890-986d-4839-af1f-fe9745534c3d",
   "metadata": {},
   "outputs": [
    {
     "name": "stdout",
     "output_type": "stream",
     "text": [
      "[-4.74281811e+00 -1.64285343e+00 -1.28109087e+00 -1.03647203e+00\n",
      " -8.42518530e-01 -6.74922642e-01 -5.25004456e-01 -3.85437552e-01\n",
      " -2.53875038e-01 -1.27400237e-01 -1.26708515e-03  1.24752110e-01\n",
      "  2.53101163e-01  3.85545312e-01  5.25191588e-01  6.75825699e-01\n",
      "  8.41892201e-01  1.03689535e+00  1.28195557e+00  1.64734735e+00\n",
      "  5.00849442e+00]\n"
     ]
    }
   ],
   "source": [
    "# Ahora calculamos los percentiles y vemos donde se encuentra cada valor\n",
    "valores_percentiles = np.percentile(s1, percentiles)\n",
    "print(valores_percentiles)"
   ]
  },
  {
   "cell_type": "code",
   "execution_count": 17,
   "id": "03c2cd7e-fd26-4ecf-9dbf-ffca2a5220e4",
   "metadata": {},
   "outputs": [
    {
     "data": {
      "image/png": "[encoded data removed]",
      "text/plain": [
       "<Figure size 640x480 with 1 Axes>"
      ]
     },
     "metadata": {},
     "output_type": "display_data"
    }
   ],
   "source": [
    "# Realizmaos un histograma de estas distribuciones\n",
    "plt.figure()\n",
    "plt.hist(valores_percentiles)\n",
    "plt.title(\"Histograma de la variable aleatoria\")\n",
    "plt.show()"
   ]
  },
  {
   "cell_type": "markdown",
   "id": "9fad8585-fa97-4619-a1b4-87ffa295f3d8",
   "metadata": {},
   "source": [
    "##### ¿Qué son la curtosis y la asimetría de una distribución? \n",
    "\n",
    "La curtosis es una medida estadística que nos habla de la forma de una distribución. Nos habla de cuan alejados de la medida tenemos los datos.\n",
    "Esto no quiere decir que tenemos mayor varianza sino, más bien, nos habla de cuan largas son las colas de la distribución.\n",
    "\n",
    "Tenemos dos tipos de curtosis en general: Una curtosis convencional y una curtosis en exceso. Como la curtosis de una distribución normal estandar\n",
    "es igual a 3, lo que suele hacerse es ajustar el momento cuatro restandole un 3 para que la curtosis de una normal sea igual a 0.\n",
    "\n",
    "Por otro lado, la curtosis nos dice cuantos valores tenemos por derecha y por izquierda respuesto a la media de una distribución. Es por eso que se utiliza el momento 3 con el objetivo de seguir mantendiendo el signo. Por ejemplo, al hablar de una distribución de rendimientos, tenes un sesgo (o una distribución asimétrica a la derecha) positivo nos dice que tenemos más valores a la derecha de la media aunque esto nos puede esta hablando de valores anómalos también. Acá es donde es importante interpretar la kurtosis.\n",
    "\n",
    "Ambos conceptos son útiles a la hora de analizar si una distribución es semejante a una normal o no. Que se cumpla esta propiedad nos puede ayudar a simplificar muchos inconvenientes que podemos tener en el modelado"
   ]
  },
  {
   "cell_type": "code",
   "execution_count": 18,
   "id": "eaf53ec3-d94e-4704-beba-36abc47efe1e",
   "metadata": {},
   "outputs": [
    {
     "name": "stdout",
     "output_type": "stream",
     "text": [
      "Curtosis de Fisher (en exceso):0.004917982016618527\n",
      "Curtosis de Person:3.0049179820166185\n",
      "Medida de asimetría:0.0035619584759169066\n",
      "Media:8.578118725737678e-05\n",
      "Desvío estandar (volatilidad):1.0006962597129319\n"
     ]
    }
   ],
   "source": [
    "# Calculamos los momentos de orden 3 (asimetría o sesgo) y el momento de orden 4 (kurtosis).\n",
    "print('Curtosis de Fisher (en exceso):' + str(st.kurtosis(s1)))\n",
    "print('Curtosis de Person:' + str(st.kurtosis(s1, fisher=False)))\n",
    "print('Medida de asimetría:' + str(st.skew(s1)))\n",
    "print('Media:' + str(np.mean(s1)))\n",
    "print('Desvío estandar (volatilidad):' + str(np.std(s1)))"
   ]
  },
  {
   "cell_type": "markdown",
   "id": "a37c7e57-36aa-46f3-afc1-3dcac4b464a9",
   "metadata": {},
   "source": [
    "##### ¿Qué son las colas largas y las colas pesadas de una distribución? \n",
    "\n",
    "Los conceptos de colas largas y colas pesadas generalmente se usan indistintamente ya que ambos significan una mayor frecuencia en la ocurrencia de valores extrémos. No obstante, el concepto de colas pesadas también generalmente esta asociado a una mayor varianza producto que la velocidad con la que caen las colas es mucho menor."
   ]
  },
  {
   "cell_type": "code",
   "execution_count": 19,
   "id": "72a90d85-0c69-4c9d-8836-4f39dbdac052",
   "metadata": {},
   "outputs": [
    {
     "name": "stdout",
     "output_type": "stream",
     "text": [
      "Curtosis de Fisher (en exceso):1.5053532485325976\n",
      "Curtosis de Person:4.5053532485325976\n",
      "Medida de asimetría:-0.003022448934158847\n",
      "Media:-0.0004211272032326754\n",
      "Desvío estandar (volatilidad):1.1553827814675488\n"
     ]
    }
   ],
   "source": [
    "# Calculamos los momentos de orden 3 (asimetría o sesgo) y el momento de orden 4 (kurtosis).\n",
    "print('Curtosis de Fisher (en exceso):' + str(st.kurtosis(s2)))\n",
    "print('Curtosis de Person:' + str(st.kurtosis(s2, fisher=False)))\n",
    "print('Medida de asimetría:' + str(st.skew(s2)))\n",
    "print('Media:' + str(np.mean(s2)))\n",
    "print('Desvío estandar (volatilidad):' + str(np.std(s2)))"
   ]
  },
  {
   "cell_type": "markdown",
   "id": "7df93409-eb25-479a-aeb4-6ea08b812259",
   "metadata": {},
   "source": [
    "##### Estadístico de normalidad jarque bera:\n",
    "\n",
    "$$\n",
    "JB = \\frac{n}{6} \\left( S^2 + \\frac{1}{4}(K-3)^2 \\right)\n",
    "$$\n",
    "\n",
    "Donde,\n",
    "\n",
    "$$\n",
    "S={\\frac {{\\hat {\\mu }}_{3}}{{\\hat {\\sigma }}^{3}}}={\\frac {{\\frac {1}{n}}\\sum _{i=1}^{n}(x_{i}-{\\bar {x}})^{3}}{\\left({\\frac {1}{n}}\\sum _{i=1}^{n}(x_{i}-{\\bar {x}})^{2}\\right)^{3/2}}}\n",
    "$$\n",
    "\n",
    "$$\n",
    "K={\\frac {{\\hat {\\mu }}_{4}}{{\\hat {\\sigma }}^{4}}}={\\frac {{\\frac {1}{n}}\\sum _{i=1}^{n}(x_{i}-{\\bar {x}})^{4}}{\\left({\\frac {1}{n}}\\sum _{i=1}^{n}(x_{i}-{\\bar {x}})^{2}\\right)^{2}}}\n",
    "$$\n",
    "\n",
    "Lo que podemos ver acá es que los momentos de orden 3 y de orden 4 estan normalizados alrededor de la varianza. Esto, cuando hablamos de una variable aleatoria que se distribuye normalmente vemos que la varianza es igual a 1. Pero en este caso estamos generalizando el caso.\n",
    "\n",
    "Si lo pensamos intuitivamente, si la curtosis es muy grande el estadístico de jarque bera será lo suficientemente grande y eso genera que el valor del test de jarque bera (se distribuye asintoticamente como una chi cuadrado) sea muuy grande y eso genera que el p-value se encuentre muy a la derecha de la distribución. Con lo cual, el p-value es muy chico dado que no tenemos más probabilidad acumulada de la derecha.\n",
    "\n",
    "La hipótesis nula del test de jarque bera es la normalidad de la distribución.\n",
    "\n",
    "##### ¿Qué es el p-value?:\n",
    "\n",
    "El p-value es la probabilidad de obtener un resultado al menos tan extremo como el observado, asumiendo que  la hipótesis nula es verdadera. En otras palabras, es la probabilidad de observar los datos que has recolectado (o resultados más extremos) si la hipótesis nula es cierta. En términos sencillos, el p-value es el área bajo al función de densidad (probabilidad) que acumula a partir de un determinado nivel de confianza.\n",
    "\n",
    "$$\n",
    "p=\\Pr(T\\geq t\\mid H_{0})\n",
    "$$\n",
    "\n",
    "Por esta razón es la que se dice que valores bajos del p-value nos permiten rechazar la hipotesis nula. Si la probabilidad es muy chiquita (es decir, el p-value es muy chico) quiere decir que verdaderamente tuve un evento extremo en mi distribución y la probabilidad de encontrar otro evento extremo es muy baja. Con lo cual, puedo rechazar la hipótesis nula."
   ]
  },
  {
   "cell_type": "code",
   "execution_count": 120,
   "id": "8b7203b9-0ee0-43c2-9a98-68fad19b7393",
   "metadata": {},
   "outputs": [],
   "source": [
    "# Dejamos guardados los estadísticos\n",
    "curtosis = st.kurtosis(s1)\n",
    "asimetria = st.skew(s1)\n",
    "media = np.mean(s1)\n",
    "desvio = np.std(s1)"
   ]
  },
  {
   "cell_type": "code",
   "execution_count": 124,
   "id": "560b4717-9f49-4eda-abea-c8d810a1cbe3",
   "metadata": {},
   "outputs": [
    {
     "name": "stdout",
     "output_type": "stream",
     "text": [
      "3.1223641605170163\n",
      "0.2098878202545762\n",
      "False\n"
     ]
    }
   ],
   "source": [
    "# Hacemos los cálculos del estadístico jarque bera\n",
    "jb_stat = size/6 * (asimetria**2 + 1/4*curtosis**2)\n",
    "\n",
    "# Cálculamos el p-value. Si el p-value es menor al 5% podemos rechazar la hipotesis nula de normalidad. Con una confianza del 95%\n",
    "# podemos afirmar que esta distribución no se comporta como una normal.\n",
    "p_value = 1 - st.chi2.cdf(jb_stat, df=2)\n",
    "\n",
    "# Imprimimos los resultados\n",
    "print(jb_stat)\n",
    "print(p_value)\n",
    "print(p_value < 0.05)"
   ]
  },
  {
   "cell_type": "code",
   "execution_count": 123,
   "id": "9de203eb-57ce-4bdf-a7dc-d69a1cd53236",
   "metadata": {},
   "outputs": [
    {
     "name": "stdout",
     "output_type": "stream",
     "text": [
      "3.1223641605170163\n",
      "0.20988782025457622\n"
     ]
    }
   ],
   "source": [
    "# También podemos seguir la documentación de scipy para calcular el estadístico\n",
    "# https://docs.scipy.org/doc/scipy/reference/generated/scipy.stats.jarque_bera.html\n",
    "res = st.jarque_bera(s1)\n",
    "print(res.statistic)\n",
    "print(res.pvalue)"
   ]
  },
  {
   "cell_type": "markdown",
   "id": "e29936ea-3c3f-4824-8640-4fc42e07dbbe",
   "metadata": {},
   "source": [
    "##### ¿Qué otras formas de inferir la normalidad tenemos?:\n",
    "\n",
    "Las representaciones gráficas son muy útiles aunque a veces pueden ser engañosas. No toda distribución con una forma acampanada es una normal y es ahí donde toman relevancia tener en considereación los conceptos de kurtosis, asimétrica (colas largas o colas pesadas). Es por esto, que además de realizar un historgrama para visualizar los datos, conviene acompañarlo de un gráfico llamado QQplot (Quantile-Quantile).\n",
    "\n",
    "En términos simples, un gráfico de QQplot lo que hace es agarrar nuestro set de datos y darle a cada punto el quantile que le correponda. Luego, con una distribución normal teorica hace lo mismo con los mismos quantiles. En nuestro caso, vamos a tener una muestra de 1 millón de datos con lo cual vamos a tener 1 millón de quantiles que también vamos a plasmar en la distribución normal. El gráfico no es más que la interección de los valores que representan cada una de las distribuciones. Si los datos se distribuyen como una normal, todos los datos deberían estar sobre una línea recta.\n",
    "\n",
    "Los gráficos de QQplot nos pueden servir para comprar con cualquier otra distribución"
   ]
  },
  {
   "cell_type": "code",
   "execution_count": 23,
   "id": "d8a05930-7a23-41d5-981a-045e30484e16",
   "metadata": {},
   "outputs": [
    {
     "name": "stderr",
     "output_type": "stream",
     "text": [
      "/home/lautipintos/Documentos/finance_fundamentals/env/lib/python3.11/site-packages/statsmodels/graphics/gofplots.py:1045: UserWarning: color is redundantly defined by the 'color' keyword argument and the fmt string \"b\" (-> color=(0.0, 0.0, 1.0, 1)). The keyword argument will take precedence.\n",
      "  ax.plot(x, y, fmt, **plot_style)\n"
     ]
    },
    {
     "data": {
      "text/plain": [
       "<Figure size 1200x600 with 0 Axes>"
      ]
     },
     "metadata": {},
     "output_type": "display_data"
    },
    {
     "data": {
      "image/png": "[encoded data removed]",
      "text/plain": [
       "<Figure size 640x480 with 1 Axes>"
      ]
     },
     "metadata": {},
     "output_type": "display_data"
    }
   ],
   "source": [
    "# También tenemos otras formas de analizar la normalidad de una variable aleatoria:\n",
    "plt.figure(figsize=(12, 6))\n",
    "sm.qqplot(s1, \n",
    "          line='s', \n",
    "          label='Distribución Normal', color='blue')\n",
    "plt.title('QQ Plot - Distribución Normal')\n",
    "plt.xlabel('Cuantiles Teóricos')\n",
    "plt.ylabel('Cuantiles de la Muestra')\n",
    "plt.legend()\n",
    "plt.grid(True)\n",
    "plt.show()"
   ]
  },
  {
   "cell_type": "code",
   "execution_count": 24,
   "id": "054350fb-0d8c-4a78-98f6-3989d0ea1826",
   "metadata": {},
   "outputs": [
    {
     "data": {
      "text/plain": [
       "<Figure size 1200x600 with 0 Axes>"
      ]
     },
     "metadata": {},
     "output_type": "display_data"
    },
    {
     "data": {
      "image/png": "[encoded data removed]",
      "text/plain": [
       "<Figure size 640x480 with 1 Axes>"
      ]
     },
     "metadata": {},
     "output_type": "display_data"
    }
   ],
   "source": [
    "# También tenemos otras formas de analizar la normalidad de una variable aleatoria:\n",
    "plt.figure(figsize=(12, 6))\n",
    "sm.qqplot(s2, \n",
    "          line='s', \n",
    "          label='Distribución t de student', color='blue')\n",
    "plt.title('QQ Plot - Distribución t de student')\n",
    "plt.xlabel('Cuantiles Teóricos')\n",
    "plt.ylabel('Cuantiles de la Muestra')\n",
    "plt.legend()\n",
    "plt.grid(True)\n",
    "plt.show()"
   ]
  },
  {
   "cell_type": "markdown",
   "id": "baa4e15e-917a-44ad-88e9-0c7b6ecfe803",
   "metadata": {},
   "source": [
    "##### Intervalos de confianza\n",
    "\n",
    "Otro concepto importante. Siempre tratamos de estimar un valor en función de la media. Pero lo mejor, en lugar de utilizar un solo valor, es siempre dar un intervalo de confianza. Este intervalo es un rango en el cual con cierto porcentaje de confianza, nuestro valor se va a encontrar en dicho rango.\n",
    "\n",
    "$$\n",
    "{\\displaystyle \\operatorname {P} \\left[{\\bar {x}}-z_{\\alpha /2}{\\frac {\\sigma }{\\sqrt {n}}}\\leq \\mu \\leq {\\bar {x}}+z_{\\alpha /2}{\\frac {\\sigma }{\\sqrt {n}}}\\right]=1-\\alpha }\n",
    "$$\n",
    "\n",
    "Es una intuición muy simple, pero si estamos viendo un muestreo cuya media es 3% y tenemos un márgen de error de 1% con un 95% de confianza. Mi resultado va a estar entre un 2% y 4% el 95% de las veces.\n",
    "\n",
    "**llevado a la práctica**: Si tenemos una media de 5% anual y sabemos que los intervalos de confianza de la media son: mu +- 1,96*Sigma (95% confianza)\n",
    "Por ende, si tenemos un sigma chiquito (por ejemplo 1,5%) podemos afirmar que con un nivel de confianza del 95% todo el intervalo de confianza es positivo! Y eso en términos de rendimientos es muy bueno. Esto deja fuera retornos muy positivos pero también muy negativos. Con lo cual, depende del perfil del inversor.\n",
    "\n",
    "Esto que generalizamos arriba es una **regla empírica** que tiene por detrás el supuesto que de los errores de nuestro muestreo se distribuyen como una distribución normal y además que la media de los errores es 0 (no tenemos un sesgo en nuestra distribución). Por eso podemos usar los valores de la normal inversa al 90, 95 y 99 porciento."
   ]
  },
  {
   "cell_type": "code",
   "execution_count": 25,
   "id": "95a581c1-df09-4b44-beca-774b8521e6e4",
   "metadata": {},
   "outputs": [
    {
     "name": "stdout",
     "output_type": "stream",
     "text": [
      "Z para 90% de confianza: 1.6448536269514722\n",
      "Z para 95% de confianza: 1.959963984540054\n",
      "Z para 99% de confianza: 2.5758293035489004\n"
     ]
    }
   ],
   "source": [
    "# Para esto podemos calcular la inversa de la función de distribución acumulada\n",
    "# Intervalo de confianza del 90%\n",
    "z_90 = st.norm.ppf(0.95)\n",
    "\n",
    "# Intervalo de confianza del 95%\n",
    "z_95 = st.norm.ppf(0.975) \n",
    "\n",
    "# Intervalo de confianza del 99%\n",
    "z_99 = st.norm.ppf(0.995) \n",
    "\n",
    "print(\"Z para 90% de confianza:\", z_90)\n",
    "print(\"Z para 95% de confianza:\", z_95)\n",
    "print(\"Z para 99% de confianza:\", z_99)"
   ]
  },
  {
   "cell_type": "code",
   "execution_count": 26,
   "id": "28f83273-67a6-4828-812d-a47a52f95ac3",
   "metadata": {},
   "outputs": [
    {
     "data": {
      "text/plain": [
       "0.995"
      ]
     },
     "execution_count": 26,
     "metadata": {},
     "output_type": "execute_result"
    }
   ],
   "source": [
    "# Podemos hacer el camino inverso\n",
    "Confianza = st.norm.cdf(2.5758293035489004)\n",
    "Confianza"
   ]
  },
  {
   "cell_type": "code",
   "execution_count": null,
   "id": "e29d7de6-61d7-44d8-a087-28c783abda87",
   "metadata": {},
   "outputs": [],
   "source": []
  },
  {
   "cell_type": "code",
   "execution_count": null,
   "id": "c2bbeafe-0ef7-4e85-a545-cb05e15dd121",
   "metadata": {},
   "outputs": [],
   "source": []
  }
 ],
 "metadata": {
  "kernelspec": {
   "display_name": "Python 3 (ipykernel)",
   "language": "python",
   "name": "python3"
  },
  "language_info": {
   "codemirror_mode": {
    "name": "ipython",
    "version": 3
   },
   "file_extension": ".py",
   "mimetype": "text/x-python",
   "name": "python",
   "nbconvert_exporter": "python",
   "pygments_lexer": "ipython3",
   "version": "3.11.6"
  }
 },
 "nbformat": 4,
 "nbformat_minor": 5
}
